{
 "cells": [
  {
   "cell_type": "code",
   "execution_count": 1,
   "metadata": {},
   "outputs": [
    {
     "name": "stdout",
     "output_type": "stream",
     "text": [
      "OK\n"
     ]
    }
   ],
   "source": [
    "print('OK')"
   ]
  },
  {
   "cell_type": "code",
   "execution_count": 2,
   "metadata": {},
   "outputs": [
    {
     "data": {
      "text/plain": [
       "'/Users/nguyenhoainam/Desktop/DS-DA/Projects/Medical-Chatbot-Generative-AI/research'"
      ]
     },
     "execution_count": 2,
     "metadata": {},
     "output_type": "execute_result"
    }
   ],
   "source": [
    "%pwd"
   ]
  },
  {
   "cell_type": "code",
   "execution_count": 3,
   "metadata": {},
   "outputs": [],
   "source": [
    "import os\n",
    "os.chdir(\"../\") # get one folder back"
   ]
  },
  {
   "cell_type": "code",
   "execution_count": 4,
   "metadata": {},
   "outputs": [
    {
     "data": {
      "text/plain": [
       "'/Users/nguyenhoainam/Desktop/DS-DA/Projects/Medical-Chatbot-Generative-AI'"
      ]
     },
     "execution_count": 4,
     "metadata": {},
     "output_type": "execute_result"
    }
   ],
   "source": [
    "%pwd"
   ]
  },
  {
   "cell_type": "code",
   "execution_count": 5,
   "metadata": {},
   "outputs": [],
   "source": [
    "from langchain.document_loaders import PyPDFLoader, DirectoryLoader # data loading\n",
    "from langchain.text_splitter import RecursiveCharacterTextSplitter # chunking"
   ]
  },
  {
   "cell_type": "code",
   "execution_count": 6,
   "metadata": {},
   "outputs": [],
   "source": [
    "# Extract data from the pdf file \n",
    "\n",
    "def load_pdf_file(data):\n",
    "    loader = DirectoryLoader(data,\n",
    "                             glob='*.pdf',\n",
    "                             loader_cls=PyPDFLoader)\n",
    "    \n",
    "    documents = loader.load()\n",
    "\n",
    "    return documents"
   ]
  },
  {
   "cell_type": "code",
   "execution_count": 7,
   "metadata": {},
   "outputs": [],
   "source": [
    "extracted_data = load_pdf_file(data=\"Data/\")"
   ]
  },
  {
   "cell_type": "code",
   "execution_count": 8,
   "metadata": {},
   "outputs": [],
   "source": [
    "# extracted_data"
   ]
  },
  {
   "cell_type": "code",
   "execution_count": 8,
   "metadata": {},
   "outputs": [],
   "source": [
    "# Split data into text chunks\n",
    "\n",
    "def text_split(extracted_data):\n",
    "    text_splitter = RecursiveCharacterTextSplitter(chunk_size=500,\n",
    "                                                   chunk_overlap=20)\n",
    "    text_chunks = text_splitter.split_documents(extracted_data)\n",
    "\n",
    "    return text_chunks"
   ]
  },
  {
   "cell_type": "code",
   "execution_count": 9,
   "metadata": {},
   "outputs": [
    {
     "data": {
      "text/plain": [
       "5860"
      ]
     },
     "execution_count": 9,
     "metadata": {},
     "output_type": "execute_result"
    }
   ],
   "source": [
    "text_chunks = text_split(extracted_data)\n",
    "len(text_chunks)"
   ]
  },
  {
   "cell_type": "code",
   "execution_count": 16,
   "metadata": {},
   "outputs": [],
   "source": [
    "# text_chunks"
   ]
  },
  {
   "cell_type": "code",
   "execution_count": 10,
   "metadata": {},
   "outputs": [
    {
     "name": "stderr",
     "output_type": "stream",
     "text": [
      "/var/folders/kf/qv7h_2j17gn8fff_ljjtbv_m0000gn/T/ipykernel_52431/2707779312.py:3: LangChainDeprecationWarning: The class `HuggingFaceEmbeddings` was deprecated in LangChain 0.2.2 and will be removed in 1.0. An updated version of the class exists in the :class:`~langchain-huggingface package and should be used instead. To use it run `pip install -U :class:`~langchain-huggingface` and import as `from :class:`~langchain_huggingface import HuggingFaceEmbeddings``.\n",
      "  embeddings=HuggingFaceEmbeddings(model_name='sentence-transformers/all-MiniLM-L6-v2')\n",
      "/Users/nguyenhoainam/Desktop/DS-DA/Projects/Medical-Chatbot-Generative-AI/my_env/lib/python3.10/site-packages/tqdm/auto.py:21: TqdmWarning: IProgress not found. Please update jupyter and ipywidgets. See https://ipywidgets.readthedocs.io/en/stable/user_install.html\n",
      "  from .autonotebook import tqdm as notebook_tqdm\n"
     ]
    }
   ],
   "source": [
    "from langchain.embeddings import HuggingFaceEmbeddings\n",
    "def download_hugging_face_embeddings():\n",
    "    embeddings=HuggingFaceEmbeddings(model_name='sentence-transformers/all-MiniLM-L6-v2')\n",
    "    return embeddings\n",
    "embeddings = download_hugging_face_embeddings()"
   ]
  },
  {
   "cell_type": "code",
   "execution_count": 11,
   "metadata": {},
   "outputs": [
    {
     "name": "stdout",
     "output_type": "stream",
     "text": [
      "Length 384\n",
      "[-0.034477293491363525, 0.03102315589785576, 0.006734959781169891, 0.02610900066792965, -0.03936200961470604, -0.16030247509479523, 0.06692396849393845, -0.0064414446242153645, -0.047450534999370575, 0.014758884906768799, 0.07087534666061401, 0.05552756041288376, 0.019193310290575027, -0.02625133842229843, -0.010109486989676952, -0.026940500363707542, 0.022307446226477623, -0.02222663350403309, -0.1496926099061966, -0.01749308407306671, 0.007676213979721069, 0.054352302104234695, 0.003254484385251999, 0.031725991517305374, -0.08462141454219818, -0.029405979439616203, 0.05159563943743706, 0.0481240414083004, -0.00331478682346642, -0.05827920511364937, 0.04196926951408386, 0.02221072092652321, 0.128188818693161, -0.022338924929499626, -0.011656248942017555, 0.06292834132909775, -0.03287629410624504, -0.09122605621814728, -0.03117532841861248, 0.052699532359838486, 0.047034818679094315, -0.08420304954051971, -0.030056171119213104, -0.020744822919368744, 0.009517810307443142, -0.003721756860613823, 0.00734332948923111, 0.03932433947920799, 0.09327403455972672, -0.0037885685451328754, -0.05274207517504692, -0.058058179914951324, -0.006864349823445082, 0.005283250007778406, 0.0828929990530014, 0.019362758845090866, 0.00628449022769928, -0.010330749675631523, 0.009032346308231354, -0.037683770060539246, -0.04520610347390175, 0.024016357958316803, -0.006944143678992987, 0.013491631485521793, 0.10005497932434082, -0.0716838389635086, -0.021695036441087723, 0.031618501991033554, -0.05163462087512016, -0.08224769681692123, -0.06569335609674454, -0.009895363822579384, 0.005816419143229723, 0.07355456799268723, -0.034050311893224716, 0.02488609403371811, 0.01448805071413517, 0.026457350701093674, 0.009656730107963085, 0.030217338353395462, 0.05280396342277527, -0.07535991817712784, 0.009897204115986824, 0.029836861416697502, 0.017555534839630127, 0.023091977462172508, 0.0019338636193424463, 0.0014001834206283092, -0.04717595875263214, -0.011194335296750069, -0.11420132219791412, -0.019811974838376045, 0.040266212075948715, 0.002193024381995201, -0.07979223132133484, -0.02538231573998928, 0.0944829210639, -0.028981130570173264, -0.14500251412391663, 0.2309773862361908, 0.027731122449040413, 0.032111454755067825, 0.031064996495842934, 0.04283284395933151, 0.0642377957701683, 0.03216315805912018, -0.0048767090775072575, 0.05569946765899658, -0.03753238171339035, -0.021505597978830338, -0.028342675417661667, -0.028846876695752144, 0.03835310414433479, -0.017468666657805443, 0.05248527601361275, -0.07487606257200241, -0.031259723007678986, 0.021841542795300484, -0.03989562392234802, -0.008587093092501163, 0.02695661224424839, -0.04849550127983093, 0.011469880118966103, 0.02961827628314495, -0.02057218737900257, 0.013103846460580826, 0.02883341908454895, -3.1942001868481724e-33, 0.0647820234298706, -0.0181302260607481, 0.051789939403533936, 0.12198270857334137, 0.028780166059732437, 0.008722019381821156, -0.07052116841077805, -0.016907282173633575, 0.04073968902230263, 0.0421161875128746, 0.025447187945246696, 0.0357462503015995, -0.04914476349949837, 0.0021290916483849287, -0.015546578913927078, 0.05073058605194092, -0.048185303807258606, 0.03588062524795532, -0.004067041911184788, 0.10172470659017563, -0.05597003921866417, -0.010681036859750748, 0.011235833168029785, 0.09068647772073746, 0.004234494175761938, 0.03513865917921066, -0.009702823124825954, -0.09386518597602844, 0.09285556524991989, 0.008004969917237759, -0.0077054305002093315, -0.052086737006902695, -0.012587964534759521, 0.003266893094405532, 0.006013522390276194, 0.0075815944001078606, 0.01051718182861805, -0.08634550124406815, -0.06987878680229187, -0.002533827442675829, -0.0909765288233757, 0.04688730835914612, 0.05207648500800133, 0.007193893659859896, 0.010903618298470974, -0.0052295164205133915, 0.013937325216829777, 0.021968351677060127, 0.034208543598651886, 0.06022467464208603, 0.0001166813526651822, 0.01473194733262062, -0.07008925080299377, 0.028499044477939606, -0.027601642534136772, 0.010768396779894829, 0.0348309688270092, -0.022487878799438477, 0.009769042022526264, 0.07722780853509903, 0.021588360890746117, 0.11495621502399445, -0.0680011510848999, 0.023760976269841194, -0.015983961522579193, -0.01782698929309845, 0.06439490616321564, 0.0320257693529129, 0.050270259380340576, -0.005913750734180212, -0.03370802104473114, 0.01784037984907627, 0.01657339185476303, 0.06329652667045593, 0.0346771702170372, 0.0464734211564064, 0.09790614992380142, -0.006635457277297974, 0.025207022204995155, -0.07798834145069122, 0.016926424577832222, -0.0009458290878683329, 0.022471897304058075, -0.03825325146317482, 0.09570478647947311, -0.005350738763809204, 0.010469064116477966, -0.11524059623479843, -0.013262525200843811, -0.010709395632147789, -0.08311725407838821, 0.07327357679605484, 0.0493922233581543, -0.008994359523057938, -0.09584558755159378, 3.366149296434549e-33, 0.12493180483579636, 0.01934967376291752, -0.05822574347257614, -0.03598824143409729, -0.05074680224061012, -0.04566241055727005, -0.08260343968868256, 0.14819477498531342, -0.08842115104198456, 0.06027444452047348, 0.051030199974775314, 0.010303158313035965, 0.14121423661708832, 0.030813822522759438, 0.061033107340335846, -0.052851248532533646, 0.13664886355400085, 0.009189906530082226, -0.017325222492218018, -0.012848631478846073, -0.007995282299816608, -0.0509801022708416, -0.052350640296936035, 0.007593053393065929, -0.01516627985984087, 0.016960328444838524, 0.021270547062158585, 0.020558007061481476, -0.120028056204319, 0.014461806043982506, 0.026759913191199303, 0.02533060498535633, -0.04275466129183769, 0.006768440827727318, -0.014458597637712955, 0.04526200518012047, -0.09147655963897705, -0.019439157098531723, -0.017833461984992027, -0.0549100786447525, -0.05264105275273323, -0.010459054261446, -0.052016060799360275, 0.02089209295809269, -0.0799703523516655, -0.012111332267522812, -0.05773140490055084, 0.02317824214696884, -0.008031641133129597, -0.025989264249801636, -0.07995666563510895, -0.020728813484311104, 0.04881773144006729, -0.020389165729284286, -0.04917660728096962, 0.014159683138132095, -0.06362210214138031, -0.007807399611920118, 0.01643148437142372, -0.02568252757191658, 0.013381105847656727, 0.02624872699379921, 0.009978324174880981, 0.06322890520095825, 0.0026720825117081404, -0.006582796573638916, 0.01663201116025448, 0.03236646577715874, 0.03794251009821892, -0.036376047879457474, -0.006910962052643299, 0.00015966805221978575, -0.0016335883410647511, -0.027278216555714607, -0.028038060292601585, 0.049681514501571655, -0.028867151588201523, -0.0024180549662560225, 0.014774915762245655, 0.009764601476490498, 0.005797544959932566, 0.013486127369105816, 0.0055679199285805225, 0.0372270867228508, 0.007232503034174442, 0.040156248956918716, 0.08150321990251541, 0.07199165225028992, -0.0130561962723732, -0.0428820364177227, -0.011011206544935703, 0.0048977648839354515, -0.009229680523276329, 0.035191476345062256, -0.05103503540158272, -1.5714373802211412e-08, -0.08862439543008804, 0.023909300565719604, -0.0162387415766716, 0.03170045092701912, 0.027284221723675728, 0.05246877297759056, -0.04707097262144089, -0.05884743109345436, -0.0632082149386406, 0.04088853672146797, 0.04982791468501091, 0.10655168443918228, -0.07450229674577713, -0.012495452538132668, 0.018370680510997772, 0.039474111050367355, -0.02479790523648262, 0.014516270719468594, -0.03706919774413109, 0.02001573145389557, -4.8595928092254326e-05, 0.009866547770798206, 0.024838756769895554, -0.05245814099907875, 0.02931414358317852, -0.08719190210103989, -0.014499806798994541, 0.026019008830189705, -0.018746381625533104, -0.07620512694120407, 0.03504325821995735, 0.10363951325416565, -0.028050526976585388, 0.012718205340206623, -0.07632555812597275, -0.01865239627659321, 0.024976707994937897, 0.08144534379243851, 0.06875890493392944, -0.0640566274523735, -0.08389389514923096, 0.0613623708486557, -0.033545564860105515, -0.10615339130163193, -0.04008059576153755, 0.03253021091222763, 0.07662485539913177, -0.07301614433526993, 0.00033759683719836175, -0.04087155684828758, -0.07578852027654648, 0.027527669444680214, 0.07462543994188309, 0.017717307433485985, 0.09121841937303543, 0.11022017896175385, 0.000569815980270505, 0.05146332085132599, -0.014551316387951374, 0.03323202207684517, 0.023792237043380737, -0.022889798507094383, 0.03893755376338959, 0.03020680509507656]\n"
     ]
    }
   ],
   "source": [
    "query_result = embeddings.embed_query(\"Hello world\")\n",
    "print(\"Length\", len(query_result))\n",
    "print(query_result)"
   ]
  },
  {
   "cell_type": "code",
   "execution_count": 27,
   "metadata": {},
   "outputs": [
    {
     "data": {
      "text/plain": [
       "True"
      ]
     },
     "execution_count": 27,
     "metadata": {},
     "output_type": "execute_result"
    }
   ],
   "source": [
    "from dotenv import load_dotenv\n",
    "load_dotenv()"
   ]
  },
  {
   "cell_type": "code",
   "execution_count": 28,
   "metadata": {},
   "outputs": [],
   "source": [
    "PINECONE_API_KEY = os.environ.get('PINECONE_API_KEY')\n",
    "OPENAI_API_KEY = os.environ.get('OPENAI_API_KEY')"
   ]
  },
  {
   "cell_type": "code",
   "execution_count": 15,
   "metadata": {},
   "outputs": [],
   "source": [
    "from pinecone import Pinecone, ServerlessSpec\n",
    "from pinecone import ServerlessSpec\n",
    "import os\n",
    "\n",
    "pc = Pinecone(api_key=PINECONE_API_KEY)\n",
    "\n",
    "index_name = \"medicalbot\"\n",
    "\n",
    "pc.create_index(\n",
    "    name=index_name,\n",
    "    dimension=384, \n",
    "    metric=\"cosine\", \n",
    "    spec=ServerlessSpec(\n",
    "        cloud=\"aws\",\n",
    "        region=\"us-east-1\"\n",
    "    ) \n",
    ")"
   ]
  },
  {
   "cell_type": "code",
   "execution_count": 29,
   "metadata": {},
   "outputs": [],
   "source": [
    "# Set Pinecone API as environment variable so that whenever storing the data to the pinecone, \n",
    "# pinecone will internally looks for API key inside the environment variable \n",
    "# without passing it again and again pc = Pinecone(api_key=PINECONE_API_KEY)\n",
    "\n",
    "import os\n",
    "os.environ['PINECONE_API_KEY'] = PINECONE_API_KEY\n",
    "os.environ['OPENAI_API_KEY'] = OPENAI_API_KEY"
   ]
  },
  {
   "cell_type": "code",
   "execution_count": 20,
   "metadata": {},
   "outputs": [],
   "source": [
    "# store the vector embedding\n",
    "# Embed each chunk and upsert the embeddings into pinecone index\n",
    "\n",
    "from langchain_pinecone import PineconeVectorStore\n",
    "\n",
    "docsearch = PineconeVectorStore.from_documents(\n",
    "    embedding=embeddings,\n",
    "    index_name=index_name,\n",
    "    documents=text_chunks\n",
    ")"
   ]
  },
  {
   "cell_type": "code",
   "execution_count": 21,
   "metadata": {},
   "outputs": [],
   "source": [
    "# Load existing index\n",
    " \n",
    "docsearch = PineconeVectorStore.from_existing_index(\n",
    "    embedding=embeddings,\n",
    "    index_name=index_name\n",
    ")"
   ]
  },
  {
   "cell_type": "code",
   "execution_count": 22,
   "metadata": {},
   "outputs": [],
   "source": [
    "retriever = docsearch.as_retriever(search_type='similarity', search_kwargs={\"k\":3}) # 3 relevant answers"
   ]
  },
  {
   "cell_type": "code",
   "execution_count": 25,
   "metadata": {},
   "outputs": [],
   "source": [
    "retrieved_doc = retriever.invoke(\"What is Acne?\")"
   ]
  },
  {
   "cell_type": "code",
   "execution_count": 26,
   "metadata": {},
   "outputs": [
    {
     "data": {
      "text/plain": [
       "[Document(id='e2649f50-f25e-4246-819d-0ad91a480f93', metadata={'page': 39.0, 'source': 'Data/Medical_book.pdf'}, page_content='GALE ENCYCLOPEDIA OF MEDICINE 226\\nAcne\\nGEM - 0001 to 0432 - A  10/22/03 1:41 PM  Page 26'),\n",
       " Document(id='db4b1308-206c-45cf-aeea-7e3f90b4cd42', metadata={'page': 38.0, 'source': 'Data/Medical_book.pdf'}, page_content='GALE ENCYCLOPEDIA OF MEDICINE 2 25\\nAcne\\nAcne vulgaris affecting a woman’s face. Acne is the general\\nname given to a skin disorder in which the sebaceous\\nglands become inflamed.(Photograph by Biophoto Associ-\\nates, Photo Researchers, Inc. Reproduced by permission.)\\nGEM - 0001 to 0432 - A  10/22/03 1:41 PM  Page 25'),\n",
       " Document(id='4e68eb6c-48b5-4791-84a4-dcc439f96ba4', metadata={'page': 37.0, 'source': 'Data/Medical_book.pdf'}, page_content='Acidosis see Respiratory acidosis; Renal\\ntubular acidosis; Metabolic acidosis\\nAcne\\nDefinition\\nAcne is a common skin disease characterized by\\npimples on the face, chest, and back. It occurs when the\\npores of the skin become clogged with oil, dead skin\\ncells, and bacteria.\\nDescription\\nAcne vulgaris, the medical term for common acne, is\\nthe most common skin disease. It affects nearly 17 million\\npeople in the United States. While acne can arise at any')]"
      ]
     },
     "execution_count": 26,
     "metadata": {},
     "output_type": "execute_result"
    }
   ],
   "source": [
    "retrieved_doc"
   ]
  },
  {
   "cell_type": "code",
   "execution_count": 30,
   "metadata": {},
   "outputs": [],
   "source": [
    "# intialize LLM\n",
    "\n",
    "from langchain_openai import OpenAI\n",
    "llm = OpenAI(temperature=0.4,max_tokens=500)"
   ]
  },
  {
   "cell_type": "code",
   "execution_count": 31,
   "metadata": {},
   "outputs": [],
   "source": [
    "# Create the complete chain\n",
    "\n",
    "from langchain.chains import create_retrieval_chain\n",
    "from langchain.chains.combine_documents import create_stuff_documents_chain\n",
    "from langchain_core.prompts import ChatPromptTemplate\n",
    "\n",
    "system_prompt = (\n",
    "    \"You are an assistant for question-answering tasks. \"\n",
    "    \"Use the following pieces of retrieved context to answer \"\n",
    "    \"the question. If you don't know the answer, say that you \"\n",
    "    \"don't know. Use three sentences maximum and keep the \"\n",
    "    \"answer concise.\"\n",
    "    \"\\n\\n\"\n",
    "    \"{context}\"\n",
    ")\n",
    "\n",
    "\n",
    "prompt = ChatPromptTemplate.from_messages(\n",
    "    [\n",
    "        (\"system\", system_prompt),\n",
    "        (\"human\", \"{input}\"),\n",
    "    ]\n",
    ")"
   ]
  },
  {
   "cell_type": "code",
   "execution_count": 32,
   "metadata": {},
   "outputs": [],
   "source": [
    "question_answer_chain = create_stuff_documents_chain(llm, prompt)\n",
    "rag_chain = create_retrieval_chain(retriever, question_answer_chain)"
   ]
  },
  {
   "cell_type": "code",
   "execution_count": 34,
   "metadata": {},
   "outputs": [
    {
     "name": "stdout",
     "output_type": "stream",
     "text": [
      "\n",
      "\n",
      "Acne is a skin disorder characterized by inflamed sebaceous glands, resulting in pimples on the face, chest, and back. It is caused by clogged pores due to oil, dead skin cells, and bacteria. Acne vulgaris is the most common form of acne, affecting approximately 17 million people in the United States.\n"
     ]
    }
   ],
   "source": [
    "response = rag_chain.invoke({\"input\": \"What is Acne?\"})\n",
    "print(response[\"answer\"])"
   ]
  }
 ],
 "metadata": {
  "kernelspec": {
   "display_name": "my_env",
   "language": "python",
   "name": "python3"
  },
  "language_info": {
   "codemirror_mode": {
    "name": "ipython",
    "version": 3
   },
   "file_extension": ".py",
   "mimetype": "text/x-python",
   "name": "python",
   "nbconvert_exporter": "python",
   "pygments_lexer": "ipython3",
   "version": "3.10.15"
  }
 },
 "nbformat": 4,
 "nbformat_minor": 2
}
